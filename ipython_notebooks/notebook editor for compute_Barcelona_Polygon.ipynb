{
  "metadata": {
    "kernelspec": {
      "name": "python3",
      "display_name": "Python 3",
      "language": "python"
    },
    "associatedRecipe": "compute_Barcelona_Polygon",
    "creator": "admin",
    "createdOn": 1635712884515,
    "tags": [
      "recipe-editor"
    ],
    "customFields": {},
    "hide_input": false,
    "language_info": {
      "name": "python",
      "version": "3.7.9",
      "mimetype": "text/x-python",
      "codemirror_mode": {
        "name": "ipython",
        "version": 3
      },
      "pygments_lexer": "ipython3",
      "nbconvert_exporter": "python",
      "file_extension": ".py"
    },
    "modifiedBy": "admin"
  },
  "nbformat": 4,
  "nbformat_minor": 1,
  "cells": [
    {
      "execution_count": 1,
      "cell_type": "code",
      "metadata": {},
      "source": [
        "# -*- coding: utf-8 -*-\nimport dataiku\nimport pandas as pd, numpy as np\nfrom dataiku import pandasutils as pdu\n\n# Read recipe inputs\nlistingsBarcelona_prepared \u003d dataiku.Dataset(\"listingsBarcelona_prepared\")\nlistingsBarcelona_prepared_df \u003d listingsBarcelona_prepared.get_dataframe()\n\n\n# Compute recipe outputs from inputs\n\nmaxlat \u003d listingsBarcelona_prepared_df[\u0027latitude\u0027].max()\nmaxlon \u003d listingsBarcelona_prepared_df[\u0027longitude\u0027].max()\nminlat \u003d listingsBarcelona_prepared_df[\u0027latitude\u0027].min()\nminlon \u003d listingsBarcelona_prepared_df[\u0027longitude\u0027].min()\n\nprint(maxlat)\n# Write recipe outputs\n#barcelona_Polygon \u003d dataiku.Dataset(\"Barcelona_Polygon\")\n#barcelona_Polygon.write_with_schema(barcelona_Polygon_df)"
      ],
      "outputs": [
        {
          "output_type": "stream",
          "text": "41.46306\n",
          "name": "stdout"
        }
      ]
    },
    {
      "execution_count": 0,
      "cell_type": "code",
      "metadata": {},
      "source": [
        ""
      ],
      "outputs": []
    }
  ]
}