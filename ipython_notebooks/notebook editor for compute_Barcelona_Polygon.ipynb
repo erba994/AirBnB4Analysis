{
  "metadata": {
    "kernelspec": {
      "name": "python3",
      "display_name": "Python 3",
      "language": "python"
    },
    "associatedRecipe": "compute_Barcelona_Polygon",
    "creator": "admin",
    "createdOn": 1635712884515,
    "tags": [
      "recipe-editor"
    ],
    "customFields": {},
    "hide_input": false,
    "language_info": {
      "name": "python",
      "version": "3.7.9",
      "mimetype": "text/x-python",
      "codemirror_mode": {
        "name": "ipython",
        "version": 3
      },
      "pygments_lexer": "ipython3",
      "nbconvert_exporter": "python",
      "file_extension": ".py"
    },
    "modifiedBy": "admin"
  },
  "nbformat": 4,
  "nbformat_minor": 1,
  "cells": [
    {
      "execution_count": 27,
      "cell_type": "code",
      "metadata": {},
      "source": [
        "# -*- coding: utf-8 -*-\nimport dataiku\nimport pandas as pd, numpy as np\nfrom dataiku import pandasutils as pdu\nimport re\n\n# Read recipe inputs\nlistingsBarcelona_prepared \u003d dataiku.Dataset(\"listingsBarcelona_prepared\")\nlistingsBarcelona_prepared_df \u003d listingsBarcelona_prepared.get_dataframe()\n\n\n# Compute recipe outputs from inputs\n\nmaxlat \u003d listingsBarcelona_prepared_df[\u0027latitude\u0027].max()\nmaxlon \u003d listingsBarcelona_prepared_df[\u0027longitude\u0027].max()\nminlat \u003d listingsBarcelona_prepared_df[\u0027latitude\u0027].min()\nminlon \u003d listingsBarcelona_prepared_df[\u0027longitude\u0027].min()\n\nlon \u003d [maxlon, minlon]\nlat \u003d [maxlat, minlat]\ncoord \u003d [(x,y) for x in lon for y in lat]\n\ncol1 \u003d \u0027POLYGON \u0027+ str([str(str(coord[x][0]) + \u0027 \u0027 + str(coord[x][1])) for x,v in enumerate(coord)])\ncol1 \u003d re.sub(\u0027\\[\u0027,\u0027((\u0027,col1)\ncol1 \u003d re.sub(\u0027\\[\u0027,\u0027((\u0027,col1)\ncol1 \u003d re.sub(\u0027\\]\u0027,\u0027))\u0027,col1)\ncol1 \u003d re.sub(\u0027\\\u0027\u0027, \u0027\u0027,col1)\nprint(col1)"
      ],
      "outputs": [
        {
          "output_type": "stream",
          "text": "\u003cinput\u003e:24: DeprecationWarning: invalid escape sequence \\[\n\u003cinput\u003e:24: DeprecationWarning: invalid escape sequence \\[\n\u003cinput\u003e:25: DeprecationWarning: invalid escape sequence \\[\n\u003cinput\u003e:24: DeprecationWarning: invalid escape sequence \\[\n\u003cinput\u003e:25: DeprecationWarning: invalid escape sequence \\[\n\u003cinput\u003e:26: DeprecationWarning: invalid escape sequence \\]\n\u003cinput\u003e:24: DeprecationWarning: invalid escape sequence \\[\n\u003cinput\u003e:25: DeprecationWarning: invalid escape sequence \\[\n\u003cinput\u003e:26: DeprecationWarning: invalid escape sequence \\]\n\u003cinput\u003e:24: DeprecationWarning: invalid escape sequence \\[\n\u003cinput\u003e:25: DeprecationWarning: invalid escape sequence \\[\n\u003cinput\u003e:26: DeprecationWarning: invalid escape sequence \\]\n\u003cipython-input-27-5b6788532743\u003e:24: DeprecationWarning: invalid escape sequence \\[\n  col1 \u003d re.sub(\u0027\\[\u0027,\u0027((\u0027,col1)\n\u003cipython-input-27-5b6788532743\u003e:25: DeprecationWarning: invalid escape sequence \\[\n  col1 \u003d re.sub(\u0027\\[\u0027,\u0027((\u0027,col1)\n\u003cipython-input-27-5b6788532743\u003e:26: DeprecationWarning: invalid escape sequence \\]\n  col1 \u003d re.sub(\u0027\\]\u0027,\u0027))\u0027,col1)\n",
          "name": "stderr"
        },
        {
          "output_type": "stream",
          "text": "POLYGON ((2.2296735499641933 41.46306, 2.2296735499641933 41.352608000000004, 2.09159 41.46306, 2.09159 41.352608000000004))\n",
          "name": "stdout"
        }
      ]
    },
    {
      "execution_count": 28,
      "cell_type": "code",
      "metadata": {},
      "source": [
        "barcelona_Polygon_df \u003d pd.DataFrame(data\u003dcol1)\n\n# Write recipe outputs\nbarcelona_Polygon \u003d dataiku.Dataset(\"Barcelona_Polygon\")\nbarcelona_Polygon.write_with_schema(barcelona_Polygon_df)"
      ],
      "outputs": [
        {
          "output_type": "stream",
          "text": "/home/erba994/dataiku-dss-9.0.4/python37.packages/pandas/core/frame.py:406: DeprecationWarning: Using or importing the ABCs from \u0027collections\u0027 instead of from \u0027collections.abc\u0027 is deprecated since Python 3.3,and in 3.9 it will stop working\n  elif isinstance(data, collections.Iterator):\n",
          "name": "stderr"
        },
        {
          "output_type": "error",
          "ename": "ValueError",
          "evalue": "DataFrame constructor not properly called!",
          "traceback": [
            "\u001b[0;31m---------------------------------------------------------------------------\u001b[0m",
            "\u001b[0;31mValueError\u001b[0m                                Traceback (most recent call last)",
            "\u001b[0;32m\u003cipython-input-28-ed9a2dec1354\u003e\u001b[0m in \u001b[0;36m\u003cmodule\u003e\u001b[0;34m()\u001b[0m\n\u001b[0;32m----\u003e 1\u001b[0;31m \u001b[0mbarcelona_Polygon_df\u001b[0m \u001b[0;34m\u003d\u001b[0m \u001b[0mpd\u001b[0m\u001b[0;34m.\u001b[0m\u001b[0mDataFrame\u001b[0m\u001b[0;34m(\u001b[0m\u001b[0mdata\u001b[0m\u001b[0;34m\u003d\u001b[0m\u001b[0mcol1\u001b[0m\u001b[0;34m)\u001b[0m\u001b[0;34m\u001b[0m\u001b[0;34m\u001b[0m\u001b[0m\n\u001b[0m\u001b[1;32m      2\u001b[0m \u001b[0;34m\u001b[0m\u001b[0m\n\u001b[1;32m      3\u001b[0m \u001b[0;31m# Write recipe outputs\u001b[0m\u001b[0;34m\u001b[0m\u001b[0;34m\u001b[0m\u001b[0;34m\u001b[0m\u001b[0m\n\u001b[1;32m      4\u001b[0m \u001b[0mbarcelona_Polygon\u001b[0m \u001b[0;34m\u003d\u001b[0m \u001b[0mdataiku\u001b[0m\u001b[0;34m.\u001b[0m\u001b[0mDataset\u001b[0m\u001b[0;34m(\u001b[0m\u001b[0;34m\"Barcelona_Polygon\"\u001b[0m\u001b[0;34m)\u001b[0m\u001b[0;34m\u001b[0m\u001b[0;34m\u001b[0m\u001b[0m\n\u001b[1;32m      5\u001b[0m \u001b[0mbarcelona_Polygon\u001b[0m\u001b[0;34m.\u001b[0m\u001b[0mwrite_with_schema\u001b[0m\u001b[0;34m(\u001b[0m\u001b[0mbarcelona_Polygon_df\u001b[0m\u001b[0;34m)\u001b[0m\u001b[0;34m\u001b[0m\u001b[0;34m\u001b[0m\u001b[0m\n",
            "\u001b[0;32m/home/erba994/dataiku-dss-9.0.4/python37.packages/pandas/core/frame.py\u001b[0m in \u001b[0;36m__init__\u001b[0;34m(self, data, index, columns, dtype, copy)\u001b[0m\n\u001b[1;32m    420\u001b[0m                                          dtype\u003dvalues.dtype, copy\u003dFalse)\n\u001b[1;32m    421\u001b[0m             \u001b[0;32melse\u001b[0m\u001b[0;34m:\u001b[0m\u001b[0;34m\u001b[0m\u001b[0;34m\u001b[0m\u001b[0m\n\u001b[0;32m--\u003e 422\u001b[0;31m                 \u001b[0;32mraise\u001b[0m \u001b[0mValueError\u001b[0m\u001b[0;34m(\u001b[0m\u001b[0;34m\u0027DataFrame constructor not properly called!\u0027\u001b[0m\u001b[0;34m)\u001b[0m\u001b[0;34m\u001b[0m\u001b[0;34m\u001b[0m\u001b[0m\n\u001b[0m\u001b[1;32m    423\u001b[0m \u001b[0;34m\u001b[0m\u001b[0m\n\u001b[1;32m    424\u001b[0m         \u001b[0mNDFrame\u001b[0m\u001b[0;34m.\u001b[0m\u001b[0m__init__\u001b[0m\u001b[0;34m(\u001b[0m\u001b[0mself\u001b[0m\u001b[0;34m,\u001b[0m \u001b[0mmgr\u001b[0m\u001b[0;34m,\u001b[0m \u001b[0mfastpath\u001b[0m\u001b[0;34m\u003d\u001b[0m\u001b[0;32mTrue\u001b[0m\u001b[0;34m)\u001b[0m\u001b[0;34m\u001b[0m\u001b[0;34m\u001b[0m\u001b[0m\n",
            "\u001b[0;31mValueError\u001b[0m: DataFrame constructor not properly called!"
          ]
        }
      ]
    },
    {
      "cell_type": "markdown",
      "metadata": {},
      "source": [
        "POLYGON [\u00272.2296735499641933 41.46306\u0027, \u00272.2296735499641933 41.352608000000004\u0027, \u00272.09159 41.46306\u0027, \u00272.09159 41.352608000000004\u0027]"
      ]
    }
  ]
}