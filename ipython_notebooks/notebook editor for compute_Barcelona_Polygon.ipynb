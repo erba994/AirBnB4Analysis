{
  "metadata": {
    "kernelspec": {
      "name": "python3",
      "display_name": "Python 3",
      "language": "python"
    },
    "associatedRecipe": "compute_Barcelona_Polygon",
    "creator": "admin",
    "createdOn": 1635712884515,
    "tags": [
      "recipe-editor"
    ],
    "customFields": {},
    "hide_input": false,
    "language_info": {
      "name": "python",
      "version": "3.7.9",
      "mimetype": "text/x-python",
      "codemirror_mode": {
        "name": "ipython",
        "version": 3
      },
      "pygments_lexer": "ipython3",
      "nbconvert_exporter": "python",
      "file_extension": ".py"
    },
    "modifiedBy": "admin"
  },
  "nbformat": 4,
  "nbformat_minor": 1,
  "cells": [
    {
      "execution_count": 27,
      "cell_type": "code",
      "metadata": {},
      "source": [
        "# -*- coding: utf-8 -*-\nimport dataiku\nimport pandas as pd, numpy as np\nfrom dataiku import pandasutils as pdu\nimport re\n\n# Read recipe inputs\nlistingsBarcelona_prepared \u003d dataiku.Dataset(\"listingsBarcelona_prepared\")\nlistingsBarcelona_prepared_df \u003d listingsBarcelona_prepared.get_dataframe()\n\n\n# Compute recipe outputs from inputs\n\nmaxlat \u003d listingsBarcelona_prepared_df[\u0027latitude\u0027].max()\nmaxlon \u003d listingsBarcelona_prepared_df[\u0027longitude\u0027].max()\nminlat \u003d listingsBarcelona_prepared_df[\u0027latitude\u0027].min()\nminlon \u003d listingsBarcelona_prepared_df[\u0027longitude\u0027].min()\n\nlon \u003d [maxlon, minlon]\nlat \u003d [maxlat, minlat]\ncoord \u003d [(x,y) for x in lon for y in lat]\n\ncol1 \u003d \u0027POLYGON \u0027+ str([str(str(coord[x][0]) + \u0027 \u0027 + str(coord[x][1])) for x,v in enumerate(coord)])\ncol1 \u003d re.sub(\u0027\\[\u0027,\u0027((\u0027,col1)\ncol1 \u003d re.sub(\u0027\\[\u0027,\u0027((\u0027,col1)\ncol1 \u003d re.sub(\u0027\\]\u0027,\u0027))\u0027,col1)\ncol1 \u003d re.sub(\u0027\\\u0027\u0027, \u0027\u0027,col1)\nprint(col1)"
      ],
      "outputs": [
        {
          "output_type": "stream",
          "text": "\u003cinput\u003e:24: DeprecationWarning: invalid escape sequence \\[\n\u003cinput\u003e:24: DeprecationWarning: invalid escape sequence \\[\n\u003cinput\u003e:25: DeprecationWarning: invalid escape sequence \\[\n\u003cinput\u003e:24: DeprecationWarning: invalid escape sequence \\[\n\u003cinput\u003e:25: DeprecationWarning: invalid escape sequence \\[\n\u003cinput\u003e:26: DeprecationWarning: invalid escape sequence \\]\n\u003cinput\u003e:24: DeprecationWarning: invalid escape sequence \\[\n\u003cinput\u003e:25: DeprecationWarning: invalid escape sequence \\[\n\u003cinput\u003e:26: DeprecationWarning: invalid escape sequence \\]\n\u003cinput\u003e:24: DeprecationWarning: invalid escape sequence \\[\n\u003cinput\u003e:25: DeprecationWarning: invalid escape sequence \\[\n\u003cinput\u003e:26: DeprecationWarning: invalid escape sequence \\]\n\u003cipython-input-27-5b6788532743\u003e:24: DeprecationWarning: invalid escape sequence \\[\n  col1 \u003d re.sub(\u0027\\[\u0027,\u0027((\u0027,col1)\n\u003cipython-input-27-5b6788532743\u003e:25: DeprecationWarning: invalid escape sequence \\[\n  col1 \u003d re.sub(\u0027\\[\u0027,\u0027((\u0027,col1)\n\u003cipython-input-27-5b6788532743\u003e:26: DeprecationWarning: invalid escape sequence \\]\n  col1 \u003d re.sub(\u0027\\]\u0027,\u0027))\u0027,col1)\n",
          "name": "stderr"
        },
        {
          "output_type": "stream",
          "text": "POLYGON ((2.2296735499641933 41.46306, 2.2296735499641933 41.352608000000004, 2.09159 41.46306, 2.09159 41.352608000000004))\n",
          "name": "stdout"
        }
      ]
    },
    {
      "execution_count": 29,
      "cell_type": "code",
      "metadata": {},
      "source": [
        "barcelona_Polygon_df \u003d pd.DataFrame(col1, index \u003d[\u00271\u0027], columns \u003d[\u0027Polygon\u0027])\n\n# Write recipe outputs\nbarcelona_Polygon \u003d dataiku.Dataset(\"Barcelona_Polygon\")\nbarcelona_Polygon.write_with_schema(barcelona_Polygon_df)"
      ],
      "outputs": [
        {
          "output_type": "stream",
          "text": "1 rows successfully written (K84ec9p76P)\n",
          "name": "stdout"
        }
      ]
    },
    {
      "cell_type": "markdown",
      "metadata": {},
      "source": [
        "POLYGON [\u00272.2296735499641933 41.46306\u0027, \u00272.2296735499641933 41.352608000000004\u0027, \u00272.09159 41.46306\u0027, \u00272.09159 41.352608000000004\u0027]"
      ]
    }
  ]
}