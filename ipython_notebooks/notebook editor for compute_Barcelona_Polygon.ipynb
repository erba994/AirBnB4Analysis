{
  "metadata": {
    "kernelspec": {
      "name": "python3",
      "display_name": "Python 3",
      "language": "python"
    },
    "associatedRecipe": "compute_Barcelona_Polygon",
    "creator": "admin",
    "createdOn": 1635712884515,
    "tags": [
      "recipe-editor"
    ],
    "customFields": {},
    "hide_input": false,
    "language_info": {
      "name": "python",
      "version": "3.7.9",
      "mimetype": "text/x-python",
      "codemirror_mode": {
        "name": "ipython",
        "version": 3
      },
      "pygments_lexer": "ipython3",
      "nbconvert_exporter": "python",
      "file_extension": ".py"
    },
    "modifiedBy": "admin"
  },
  "nbformat": 4,
  "nbformat_minor": 1,
  "cells": [
    {
      "execution_count": 21,
      "cell_type": "code",
      "metadata": {},
      "source": [
        "# -*- coding: utf-8 -*-\nimport dataiku\nimport pandas as pd, numpy as np\nfrom dataiku import pandasutils as pdu\nimport re\n\n# Read recipe inputs\nlistingsBarcelona_prepared \u003d dataiku.Dataset(\"listingsBarcelona_prepared\")\nlistingsBarcelona_prepared_df \u003d listingsBarcelona_prepared.get_dataframe()\n\n\n# Compute recipe outputs from inputs\n\nmaxlat \u003d listingsBarcelona_prepared_df[\u0027latitude\u0027].max()\nmaxlon \u003d listingsBarcelona_prepared_df[\u0027longitude\u0027].max()\nminlat \u003d listingsBarcelona_prepared_df[\u0027latitude\u0027].min()\nminlon \u003d listingsBarcelona_prepared_df[\u0027longitude\u0027].min()\n\nlon \u003d [maxlon, minlon]\nlat \u003d [maxlat, minlat]\ncoord \u003d [(x,y) for x in lon for y in lat]\n\ncol1 \u003d \u0027POLYGON \u0027+ str([str(str(coord[x][0]) + \u0027 \u0027 + str(coord[x][1])) for x,v in enumerate(coord)])\ncol1 \u003d re.sub(\u0027/[\u0027,\u0027/(/(\u0027)\ncol1 \u003d re.sub(\u0027/[\u0027,\u0027/(/(\u0027)\ncol1 \u003d re.sub(\u0027/]\u0027,\u0027/)/)\u0027)\ncol1 \u003d re.sub(\u0027/\u0027\u0027, \u0027\u0027)\nprint(col1)"
      ],
      "outputs": [
        {
          "output_type": "error",
          "ename": "SyntaxError",
          "evalue": "EOL while scanning string literal (\u003cipython-input-21-66bbbe40c212\u003e, line 27)",
          "traceback": [
            "\u001b[0;36m  File \u001b[0;32m\"\u003cipython-input-21-66bbbe40c212\u003e\"\u001b[0;36m, line \u001b[0;32m27\u001b[0m\n\u001b[0;31m    col1 \u003d re.sub(\u0027/\u0027\u0027, \u0027\u0027)\u001b[0m\n\u001b[0m                           ^\u001b[0m\n\u001b[0;31mSyntaxError\u001b[0m\u001b[0;31m:\u001b[0m EOL while scanning string literal\n"
          ]
        }
      ]
    },
    {
      "execution_count": 7,
      "cell_type": "code",
      "metadata": {},
      "source": [
        "barcelona_Polygon_df \u003d \n\n# Write recipe outputs\nbarcelona_Polygon \u003d dataiku.Dataset(\"Barcelona_Polygon\")\nbarcelona_Polygon.write_with_schema(barcelona_Polygon_df)"
      ],
      "outputs": [
        {
          "output_type": "error",
          "ename": "SyntaxError",
          "evalue": "invalid syntax (\u003cipython-input-7-74b85a6ad542\u003e, line 1)",
          "traceback": [
            "\u001b[0;36m  File \u001b[0;32m\"\u003cipython-input-7-74b85a6ad542\u003e\"\u001b[0;36m, line \u001b[0;32m1\u001b[0m\n\u001b[0;31m    barcelona_Polygon_df \u003d\u001b[0m\n\u001b[0m                           ^\u001b[0m\n\u001b[0;31mSyntaxError\u001b[0m\u001b[0;31m:\u001b[0m invalid syntax\n"
          ]
        }
      ]
    },
    {
      "cell_type": "markdown",
      "metadata": {},
      "source": [
        "POLYGON [\u00272.2296735499641933 41.46306\u0027, \u00272.2296735499641933 41.352608000000004\u0027, \u00272.09159 41.46306\u0027, \u00272.09159 41.352608000000004\u0027]"
      ]
    }
  ]
}