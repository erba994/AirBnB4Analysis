{
  "nbformat": 4,
  "nbformat_minor": 0,
  "metadata": {
    "kernelspec": {
      "display_name": "Python 3",
      "language": "python",
      "name": "python3"
    },
    "associatedRecipe": "compute_Barcelona_Polygon",
    "creator": "admin",
    "createdOn": 1635712884515,
    "tags": [
      "recipe-editor"
    ],
    "customFields": {}
  },
  "cells": [
    {
      "cell_type": "code",
      "metadata": {},
      "outputs": [],
      "execution_count": 0,
      "source": [
        "# -*- coding: utf-8 -*-\n",
        "import dataiku\n",
        "import pandas as pd, numpy as np\n",
        "from dataiku import pandasutils as pdu\n",
        "\n",
        "# Read recipe inputs\n",
        "listingsBarcelona_prepared \u003d dataiku.Dataset(\"listingsBarcelona_prepared\")\n",
        "listingsBarcelona_prepared_df \u003d listingsBarcelona_prepared.get_dataframe()\n",
        "\n",
        "\n",
        "# Compute recipe outputs from inputs\n",
        "\n",
        "maxlat \u003d barcelona_Polygon_df[\u0027latitude\u0027].max()\n",
        "maxlon \u003d barcelona_Polygon_df[\u0027longitude\u0027].max()\n",
        "minlat \u003d barcelona_Polygon_df[\u0027latitude\u0027].min()\n",
        "minlon \u003d barcelona_Polygon_df[\u0027longitude\u0027].min()\n",
        "\n",
        "\n",
        "# Write recipe outputs\n",
        "barcelona_Polygon \u003d dataiku.Dataset(\"Barcelona_Polygon\")\n",
        "barcelona_Polygon.write_with_schema(barcelona_Polygon_df)"
      ]
    }
  ]
}